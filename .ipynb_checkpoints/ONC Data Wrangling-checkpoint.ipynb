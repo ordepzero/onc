{
 "cells": [
  {
   "cell_type": "code",
   "execution_count": 36,
   "metadata": {},
   "outputs": [],
   "source": [
    "import pandas as pd\n",
    "import numpy as np\n",
    "import matplotlib as plt"
   ]
  },
  {
   "cell_type": "code",
   "execution_count": 3,
   "metadata": {},
   "outputs": [],
   "source": [
    "from bs4 import BeautifulSoup, SoupStrainer\n",
    "import requests"
   ]
  },
  {
   "cell_type": "code",
   "execution_count": 183,
   "metadata": {
    "collapsed": true
   },
   "outputs": [
    {
     "name": "stdout",
     "output_type": "stream",
     "text": [
      "https://onciencias.org/resultado/detalhe/9-ano-ensino-fundamental/medalha-ouro\n",
      "https://onciencias.org/resultado/detalhe/9-ano-ensino-fundamental/medalha-prata\n",
      "https://onciencias.org/resultado/detalhe/9-ano-ensino-fundamental/medalha-bronze\n",
      "https://onciencias.org/resultado/detalhe/9-ano-ensino-fundamental/mencao-honrosa\n",
      "https://onciencias.org/resultado/detalhe/1-serie/medalha-ouro\n",
      "https://onciencias.org/resultado/detalhe/1-serie/medalha-prata\n",
      "https://onciencias.org/resultado/detalhe/1-serie/medalha-bronze\n",
      "https://onciencias.org/resultado/detalhe/1-serie/mencao-honrosa\n",
      "https://onciencias.org/resultado/detalhe/2-serie/medalha-ouro\n",
      "https://onciencias.org/resultado/detalhe/2-serie/medalha-prata\n",
      "https://onciencias.org/resultado/detalhe/2-serie/medalha-bronze\n",
      "https://onciencias.org/resultado/detalhe/2-serie/mencao-honrosa\n",
      "https://onciencias.org/resultado/detalhe/3-serie/medalha-ouro\n",
      "https://onciencias.org/resultado/detalhe/3-serie/medalha-prata\n",
      "https://onciencias.org/resultado/detalhe/3-serie/medalha-bronze\n",
      "https://onciencias.org/resultado/detalhe/3-serie/mencao-honrosa\n",
      "https://onciencias.org/resultado/detalhe/4-ano-tecnico/medalha-ouro\n",
      "https://onciencias.org/resultado/detalhe/4-ano-tecnico/medalha-prata\n",
      "https://onciencias.org/resultado/detalhe/4-ano-tecnico/medalha-bronze\n",
      "https://onciencias.org/resultado/detalhe/4-ano-tecnico/mencao-honrosa\n"
     ]
    }
   ],
   "source": [
    "url = \"https://onciencias.org/resultado/resultado-final-onc-2019/\"\n",
    "url_home = 'https://onciencias.org/'\n",
    "\n",
    "page = requests.get(url)    \n",
    "data = page.text\n",
    "soup = BeautifulSoup(data)\n",
    "\n",
    "links = []\n",
    "\n",
    "for link in soup.find_all('a'):\n",
    "    temp_link = link.get('href')\n",
    "    if(str(temp_link).find('medalha') != -1 or str(temp_link).find('mencao-honrosa') != -1):\n",
    "        links.append(url_home+temp_link[1:])\n",
    "        #print(url_home+temp_link[1:])\n",
    "        \n",
    "serie = []\n",
    "medalhas = []\n",
    "for link in links:\n",
    "    temp_splited_link = link.split('/')\n",
    "    serie.append(temp_splited_link[-2])\n",
    "    medalhas.append(temp_splited_link[-1])\n"
   ]
  },
  {
   "cell_type": "code",
   "execution_count": 141,
   "metadata": {},
   "outputs": [],
   "source": [
    "dfs = []\n",
    "for a,b,c in zip(serie,medalhas,links):\n",
    "    df = pd.read_html(c)[0]\n",
    "    df['serie'] = a\n",
    "    df['medalha'] = b\n",
    "    dfs.append(df)\n",
    "appended_data = pd.concat(dfs)"
   ]
  },
  {
   "cell_type": "code",
   "execution_count": null,
   "metadata": {},
   "outputs": [],
   "source": []
  },
  {
   "cell_type": "code",
   "execution_count": null,
   "metadata": {},
   "outputs": [],
   "source": []
  },
  {
   "cell_type": "code",
   "execution_count": null,
   "metadata": {
    "scrolled": true
   },
   "outputs": [],
   "source": []
  },
  {
   "cell_type": "code",
   "execution_count": null,
   "metadata": {},
   "outputs": [],
   "source": []
  },
  {
   "cell_type": "code",
   "execution_count": null,
   "metadata": {},
   "outputs": [],
   "source": []
  },
  {
   "cell_type": "code",
   "execution_count": null,
   "metadata": {},
   "outputs": [],
   "source": []
  },
  {
   "cell_type": "code",
   "execution_count": 41,
   "metadata": {},
   "outputs": [
    {
     "data": {
      "text/plain": [
       "<matplotlib.axes._subplots.AxesSubplot at 0x22a57c8a898>"
      ]
     },
     "execution_count": 41,
     "metadata": {},
     "output_type": "execute_result"
    },
    {
     "data": {
      "image/png": "[encoded data removed]",
      "text/plain": [
       "<Figure size 432x288 with 1 Axes>"
      ]
     },
     "metadata": {
      "needs_background": "light"
     },
     "output_type": "display_data"
    }
   ],
   "source": [
    "df['Estado'].value_counts().plot(kind='bar')"
   ]
  },
  {
   "cell_type": "code",
   "execution_count": 45,
   "metadata": {},
   "outputs": [
    {
     "data": {
      "text/plain": [
       "array(['Fortaleza', 'Sobral', 'Juazeiro do Norte', 'Novo Oriente',\n",
       "       'Viçosa do Ceará', 'Itapipoca', 'Limoeiro do Norte'], dtype=object)"
      ]
     },
     "execution_count": 45,
     "metadata": {},
     "output_type": "execute_result"
    }
   ],
   "source": [
    "df[df['Estado'] == 'CEARÁ']['Cidade'].unique()"
   ]
  },
  {
   "cell_type": "code",
   "execution_count": null,
   "metadata": {},
   "outputs": [],
   "source": []
  }
 ],
 "metadata": {
  "kernelspec": {
   "display_name": "Python 3",
   "language": "python",
   "name": "python3"
  },
  "language_info": {
   "codemirror_mode": {
    "name": "ipython",
    "version": 3
   },
   "file_extension": ".py",
   "mimetype": "text/x-python",
   "name": "python",
   "nbconvert_exporter": "python",
   "pygments_lexer": "ipython3",
   "version": "3.7.3"
  }
 },
 "nbformat": 4,
 "nbformat_minor": 2
}
