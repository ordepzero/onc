{
 "cells": [
  {
   "cell_type": "code",
   "execution_count": 1,
   "metadata": {},
   "outputs": [],
   "source": [
    "import pandas as pd\n",
    "import numpy as np\n",
    "import matplotlib as plt"
   ]
  },
  {
   "cell_type": "code",
   "execution_count": 2,
   "metadata": {},
   "outputs": [],
   "source": [
    "from bs4 import BeautifulSoup, SoupStrainer\n",
    "import requests"
   ]
  },
  {
   "cell_type": "markdown",
   "metadata": {},
   "source": [
    "#### ONC 2019"
   ]
  },
  {
   "cell_type": "code",
   "execution_count": 5,
   "metadata": {},
   "outputs": [],
   "source": [
    "url = \"https://onciencias.org/resultado/resultado-final-onc-2019/\"\n",
    "url_home = 'https://onciencias.org/'\n",
    "\n",
    "page = requests.get(url)    \n",
    "data = page.text\n",
    "soup = BeautifulSoup(data)\n",
    "\n",
    "links = []\n",
    "\n",
    "for link in soup.find_all('a'):\n",
    "    temp_link = link.get('href')\n",
    "    if(str(temp_link).find('medalha') != -1 or str(temp_link).find('mencao-honrosa') != -1):\n",
    "        links.append(url_home+temp_link[1:])\n",
    "        #print(url_home+temp_link[1:])\n",
    "        \n",
    "serie = []\n",
    "medalhas = []\n",
    "for link in links:\n",
    "    temp_splited_link = link.split('/')\n",
    "    serie.append(temp_splited_link[-2])\n",
    "    medalhas.append(temp_splited_link[-1])\n"
   ]
  },
  {
   "cell_type": "code",
   "execution_count": 6,
   "metadata": {},
   "outputs": [],
   "source": [
    "dfs = []\n",
    "for a,b,c in zip(serie,medalhas,links):\n",
    "    df = pd.read_html(c)[0]\n",
    "    df['serie'] = a\n",
    "    df['medalha'] = b\n",
    "    dfs.append(df)\n",
    "appended_data = pd.concat(dfs)"
   ]
  },
  {
   "cell_type": "code",
   "execution_count": 15,
   "metadata": {
    "scrolled": true
   },
   "outputs": [
    {
     "data": {
      "text/html": [
       "<div>\n",
       "<style scoped>\n",
       "    .dataframe tbody tr th:only-of-type {\n",
       "        vertical-align: middle;\n",
       "    }\n",
       "\n",
       "    .dataframe tbody tr th {\n",
       "        vertical-align: top;\n",
       "    }\n",
       "\n",
       "    .dataframe thead th {\n",
       "        text-align: right;\n",
       "    }\n",
       "</style>\n",
       "<table border=\"1\" class=\"dataframe\">\n",
       "  <thead>\n",
       "    <tr style=\"text-align: right;\">\n",
       "      <th></th>\n",
       "      <th>Nome do Aluno</th>\n",
       "      <th>Escola</th>\n",
       "      <th>Estado</th>\n",
       "      <th>Cidade</th>\n",
       "      <th>Unnamed: 4</th>\n",
       "      <th>serie</th>\n",
       "      <th>medalha</th>\n",
       "    </tr>\n",
       "  </thead>\n",
       "  <tbody>\n",
       "    <tr>\n",
       "      <th>0</th>\n",
       "      <td>LARA DANTAS DE OLIVEIRA MOISES</td>\n",
       "      <td>7 DE SETEMBRO COLEGIO - NGS</td>\n",
       "      <td>CEARÁ</td>\n",
       "      <td>Fortaleza</td>\n",
       "      <td>NaN</td>\n",
       "      <td>9-ano-ensino-fundamental</td>\n",
       "      <td>medalha-ouro</td>\n",
       "    </tr>\n",
       "    <tr>\n",
       "      <th>1</th>\n",
       "      <td>NAILTON GAMA DE CASTRO A</td>\n",
       "      <td>MASTER COLEGIO</td>\n",
       "      <td>CEARÁ</td>\n",
       "      <td>Fortaleza</td>\n",
       "      <td>NaN</td>\n",
       "      <td>9-ano-ensino-fundamental</td>\n",
       "      <td>medalha-ouro</td>\n",
       "    </tr>\n",
       "    <tr>\n",
       "      <th>2</th>\n",
       "      <td>RAFAEL MORENO RIBEIRO</td>\n",
       "      <td>COLEGIO MILITAR DE SALVADOR</td>\n",
       "      <td>BAHIA</td>\n",
       "      <td>Salvador</td>\n",
       "      <td>NaN</td>\n",
       "      <td>9-ano-ensino-fundamental</td>\n",
       "      <td>medalha-ouro</td>\n",
       "    </tr>\n",
       "    <tr>\n",
       "      <th>3</th>\n",
       "      <td>ARTHUR PINTO LORENZO</td>\n",
       "      <td>COLEGIO MILITAR DE SALVADOR</td>\n",
       "      <td>BAHIA</td>\n",
       "      <td>Salvador</td>\n",
       "      <td>NaN</td>\n",
       "      <td>9-ano-ensino-fundamental</td>\n",
       "      <td>medalha-ouro</td>\n",
       "    </tr>\n",
       "    <tr>\n",
       "      <th>4</th>\n",
       "      <td>GUILHERME Z. HAUSSEN</td>\n",
       "      <td>COLEGIO ANCHIETA</td>\n",
       "      <td>RIO GRANDE DO SUL</td>\n",
       "      <td>Porto Alegre</td>\n",
       "      <td>NaN</td>\n",
       "      <td>9-ano-ensino-fundamental</td>\n",
       "      <td>medalha-ouro</td>\n",
       "    </tr>\n",
       "  </tbody>\n",
       "</table>\n",
       "</div>"
      ],
      "text/plain": [
       "                    Nome do Aluno                       Escola  \\\n",
       "0  LARA DANTAS DE OLIVEIRA MOISES  7 DE SETEMBRO COLEGIO - NGS   \n",
       "1        NAILTON GAMA DE CASTRO A               MASTER COLEGIO   \n",
       "2           RAFAEL MORENO RIBEIRO  COLEGIO MILITAR DE SALVADOR   \n",
       "3            ARTHUR PINTO LORENZO  COLEGIO MILITAR DE SALVADOR   \n",
       "4            GUILHERME Z. HAUSSEN             COLEGIO ANCHIETA   \n",
       "\n",
       "              Estado        Cidade  Unnamed: 4                     serie  \\\n",
       "0              CEARÁ     Fortaleza         NaN  9-ano-ensino-fundamental   \n",
       "1              CEARÁ     Fortaleza         NaN  9-ano-ensino-fundamental   \n",
       "2              BAHIA      Salvador         NaN  9-ano-ensino-fundamental   \n",
       "3              BAHIA      Salvador         NaN  9-ano-ensino-fundamental   \n",
       "4  RIO GRANDE DO SUL  Porto Alegre         NaN  9-ano-ensino-fundamental   \n",
       "\n",
       "        medalha  \n",
       "0  medalha-ouro  \n",
       "1  medalha-ouro  \n",
       "2  medalha-ouro  \n",
       "3  medalha-ouro  \n",
       "4  medalha-ouro  "
      ]
     },
     "execution_count": 15,
     "metadata": {},
     "output_type": "execute_result"
    }
   ],
   "source": [
    "appended_data.head()"
   ]
  },
  {
   "cell_type": "markdown",
   "metadata": {},
   "source": [
    "#### ONC 2018"
   ]
  },
  {
   "cell_type": "code",
   "execution_count": 3,
   "metadata": {},
   "outputs": [],
   "source": [
    "links_onc_2018= ['http://onciencias.org/resultados/download/15',\n",
    "                'http://onciencias.org/resultados/download/16',\n",
    "                'http://onciencias.org/resultados/download/17',\n",
    "                'http://onciencias.org/resultados/download/18']"
   ]
  },
  {
   "cell_type": "markdown",
   "metadata": {
    "scrolled": true
   },
   "source": [
    "#### ONC 2016"
   ]
  },
  {
   "cell_type": "code",
   "execution_count": 26,
   "metadata": {},
   "outputs": [],
   "source": [
    "links_onc_2016 = ['https://onciencias.org/resultados/download/9/ResultadoONC2016-Nivel%20D.pdf',\n",
    "'https://onciencias.org/resultados/download/8/ResultadoONC2016-Nivel%20C.pdf',\n",
    "'https://onciencias.org/resultados/download/7/ResultadoONC2016-Nivel%20B.pdf',\n",
    "'https://onciencias.org/resultados/download/6/ResultadoONC2016-Nivel%20A.pdf']"
   ]
  },
  {
   "cell_type": "code",
   "execution_count": null,
   "metadata": {},
   "outputs": [],
   "source": []
  },
  {
   "cell_type": "code",
   "execution_count": null,
   "metadata": {},
   "outputs": [],
   "source": []
  },
  {
   "cell_type": "code",
   "execution_count": null,
   "metadata": {},
   "outputs": [],
   "source": []
  },
  {
   "cell_type": "code",
   "execution_count": 51,
   "metadata": {},
   "outputs": [
    {
     "name": "stdout",
     "output_type": "stream",
     "text": [
      "None\n"
     ]
    }
   ],
   "source": [
    "rr = download_file(links_onc_2018[0])\n",
    "print(rr)"
   ]
  },
  {
   "cell_type": "code",
   "execution_count": 39,
   "metadata": {},
   "outputs": [],
   "source": []
  },
  {
   "cell_type": "code",
   "execution_count": 40,
   "metadata": {},
   "outputs": [],
   "source": [
    "def download_file(url):\n",
    "    local_filename = url.split('/')[-1]\n",
    "    r = requests.get(url)\n",
    "    f = open(local_filename, 'wb')\n",
    "    for chunk in r.iter_content(chunk_size=512 * 1024): \n",
    "        if chunk: # filter out keep-alive new chunks\n",
    "            f.write(chunk)\n",
    "    f.close()\n",
    "    return local_filename"
   ]
  },
  {
   "cell_type": "code",
   "execution_count": null,
   "metadata": {},
   "outputs": [],
   "source": []
  },
  {
   "cell_type": "code",
   "execution_count": 42,
   "metadata": {},
   "outputs": [],
   "source": []
  },
  {
   "cell_type": "code",
   "execution_count": 43,
   "metadata": {},
   "outputs": [],
   "source": []
  },
  {
   "cell_type": "code",
   "execution_count": null,
   "metadata": {},
   "outputs": [],
   "source": []
  }
 ],
 "metadata": {
  "kernelspec": {
   "display_name": "Python 3",
   "language": "python",
   "name": "python3"
  },
  "language_info": {
   "codemirror_mode": {
    "name": "ipython",
    "version": 3
   },
   "file_extension": ".py",
   "mimetype": "text/x-python",
   "name": "python",
   "nbconvert_exporter": "python",
   "pygments_lexer": "ipython3",
   "version": "3.7.3"
  }
 },
 "nbformat": 4,
 "nbformat_minor": 2
}
