{
 "cells": [
  {
   "cell_type": "code",
   "execution_count": 1,
   "metadata": {},
   "outputs": [],
   "source": [
    "import os\n",
    "import pandas as pd\n",
    "import numpy as np\n",
    "import matplotlib as plt\n",
    "import requests\n",
    "from bs4 import BeautifulSoup\n",
    "import tabula\n",
    "import math"
   ]
  },
  {
   "cell_type": "markdown",
   "metadata": {},
   "source": [
    "## Funções"
   ]
  },
  {
   "cell_type": "code",
   "execution_count": 4,
   "metadata": {},
   "outputs": [],
   "source": [
    "def download_file(url,path):\n",
    "    '''\n",
    "    This function download the pdfs files from urls.\n",
    "    \n",
    "    Parameters:\n",
    "        url: the url file to download.\n",
    "        path: the path to save the pdf file after download.\n",
    "        \n",
    "    Return:\n",
    "        Local pdf file path.\n",
    "    '''\n",
    "    local_filename = url.split('/')[-1]\n",
    "    local_filename = path+'/'+local_filename \n",
    "    \n",
    "    if(local_filename[-4:] != '.pdf'):\n",
    "        local_filename = local_filename + '.pdf'\n",
    "        \n",
    "    r = requests.get(url)\n",
    "    f = open(local_filename, 'wb')\n",
    "    \n",
    "    for chunk in r.iter_content(chunk_size=512 * 1024): \n",
    "        if chunk: \n",
    "            f.write(chunk)\n",
    "    f.close()\n",
    "    return local_filename"
   ]
  },
  {
   "cell_type": "code",
   "execution_count": 5,
   "metadata": {
    "scrolled": true
   },
   "outputs": [
    {
     "name": "stdout",
     "output_type": "stream",
     "text": [
      "A pasta resultados já existe\n",
      "A pasta resultados/2016 já existe\n",
      "A pasta resultados/2017 já existe\n",
      "A pasta resultados/2018 já existe\n",
      "A pasta resultados/2019 já existe\n"
     ]
    }
   ],
   "source": [
    "def create_folder(path):\n",
    "    '''\n",
    "    Function to create folder to save the files.\n",
    "    \n",
    "    Parameter:\n",
    "        - path: absolute path file name.\n",
    "    Return:\n",
    "        - status of creation file.\n",
    "    '''\n",
    "\n",
    "    try:\n",
    "        if(os.path.isdir(path)):\n",
    "            print (\"A pasta %s já existe\" % path)\n",
    "            return True\n",
    "        os.mkdir(path)\n",
    "    except OSError:\n",
    "        print (\"Criação da pasta %s falhou\" % path)\n",
    "        return False\n",
    "    else:\n",
    "        print (\"A pasta %s foi criada com sucesso\" % path)\n",
    "        \n",
    "    return True\n",
    "\n",
    "\n",
    "results = 'resultados'\n",
    "years = range(2016,2020)\n",
    "\n",
    "if(create_folder(results)):\n",
    "    for year in years:\n",
    "        create_folder(results+'/'+str(year))"
   ]
  },
  {
   "cell_type": "code",
   "execution_count": 3,
   "metadata": {},
   "outputs": [],
   "source": [
    "def get_pdf_filename(dir='\\\\resultados'):\n",
    "    '''\n",
    "    Fuction to get absolute file name.\n",
    "    \n",
    "    Parameter:\n",
    "        - dir: initial directory to reveal all the absolute filename.\n",
    "    Return:\n",
    "        - list(str): list of all the absolute filename.\n",
    "    '''\n",
    "    path = os.getcwd()+dir\n",
    "\n",
    "    files = []\n",
    "    # r=root, d=directories, f = files\n",
    "    for r, d, f in os.walk(path):\n",
    "        for file in f:\n",
    "            if '.pdf' in file:\n",
    "                files.append(os.path.join(r, file))\n",
    "\n",
    "    return files"
   ]
  },
  {
   "cell_type": "markdown",
   "metadata": {},
   "source": [
    "## Coletando e armazenando os dados da Olimpíada Nacional de Ciências (ONC)"
   ]
  },
  {
   "cell_type": "markdown",
   "metadata": {},
   "source": [
    "### ONC 2019"
   ]
  },
  {
   "cell_type": "code",
   "execution_count": 8,
   "metadata": {},
   "outputs": [],
   "source": [
    "url = \"https://onciencias.org/resultado/resultado-final-onc-2019/\"\n",
    "url_home = 'https://onciencias.org/'\n",
    "\n",
    "page = requests.get(url)    \n",
    "data = page.text\n",
    "soup = BeautifulSoup(data)\n",
    "\n",
    "links = []\n",
    "# Encontro todos as tags 'a' e seleciono apenas as que possuem a substring 'medalha' ou 'mencao-honrosa'\n",
    "for link in soup.find_all('a'):\n",
    "    temp_link = link.get('href')\n",
    "    if(str(temp_link).find('medalha') != -1 or str(temp_link).find('mencao-honrosa') != -1):\n",
    "        links.append(url_home+temp_link[1:])\n",
    "        #print(url_home+temp_link[1:])\n",
    "\n",
    "# Extrair dos links as informações da série e da premiação para serem incluídas no dataframe\n",
    "serie = []\n",
    "medalhas = []\n",
    "for link in links:\n",
    "    temp_splited_link = link.split('/')\n",
    "    serie.append(temp_splited_link[-2])\n",
    "    medalhas.append(temp_splited_link[-1])\n"
   ]
  },
  {
   "cell_type": "code",
   "execution_count": 9,
   "metadata": {},
   "outputs": [],
   "source": [
    "# Leitura dos dados da página e inclusão das informações no dataframe\n",
    "for a,b,c in zip(serie,medalhas,links):\n",
    "    df = pd.read_html(c)[0]\n",
    "    df['serie'] = a\n",
    "    df['medalha'] = b\n",
    "    dfs.append(df)\n",
    "appended_data = pd.concat(dfs)"
   ]
  },
  {
   "cell_type": "code",
   "execution_count": 10,
   "metadata": {
    "scrolled": true
   },
   "outputs": [
    {
     "data": {
      "text/html": [
       "<div>\n",
       "<style scoped>\n",
       "    .dataframe tbody tr th:only-of-type {\n",
       "        vertical-align: middle;\n",
       "    }\n",
       "\n",
       "    .dataframe tbody tr th {\n",
       "        vertical-align: top;\n",
       "    }\n",
       "\n",
       "    .dataframe thead th {\n",
       "        text-align: right;\n",
       "    }\n",
       "</style>\n",
       "<table border=\"1\" class=\"dataframe\">\n",
       "  <thead>\n",
       "    <tr style=\"text-align: right;\">\n",
       "      <th></th>\n",
       "      <th>Nome do Aluno</th>\n",
       "      <th>Escola</th>\n",
       "      <th>Estado</th>\n",
       "      <th>Cidade</th>\n",
       "      <th>Unnamed: 4</th>\n",
       "      <th>serie</th>\n",
       "      <th>medalha</th>\n",
       "    </tr>\n",
       "  </thead>\n",
       "  <tbody>\n",
       "    <tr>\n",
       "      <th>0</th>\n",
       "      <td>LARA DANTAS DE OLIVEIRA MOISES</td>\n",
       "      <td>7 DE SETEMBRO COLEGIO - NGS</td>\n",
       "      <td>CEARÁ</td>\n",
       "      <td>Fortaleza</td>\n",
       "      <td>NaN</td>\n",
       "      <td>9-ano-ensino-fundamental</td>\n",
       "      <td>medalha-ouro</td>\n",
       "    </tr>\n",
       "    <tr>\n",
       "      <th>1</th>\n",
       "      <td>NAILTON GAMA DE CASTRO A</td>\n",
       "      <td>MASTER COLEGIO</td>\n",
       "      <td>CEARÁ</td>\n",
       "      <td>Fortaleza</td>\n",
       "      <td>NaN</td>\n",
       "      <td>9-ano-ensino-fundamental</td>\n",
       "      <td>medalha-ouro</td>\n",
       "    </tr>\n",
       "    <tr>\n",
       "      <th>2</th>\n",
       "      <td>RAFAEL MORENO RIBEIRO</td>\n",
       "      <td>COLEGIO MILITAR DE SALVADOR</td>\n",
       "      <td>BAHIA</td>\n",
       "      <td>Salvador</td>\n",
       "      <td>NaN</td>\n",
       "      <td>9-ano-ensino-fundamental</td>\n",
       "      <td>medalha-ouro</td>\n",
       "    </tr>\n",
       "    <tr>\n",
       "      <th>3</th>\n",
       "      <td>ARTHUR PINTO LORENZO</td>\n",
       "      <td>COLEGIO MILITAR DE SALVADOR</td>\n",
       "      <td>BAHIA</td>\n",
       "      <td>Salvador</td>\n",
       "      <td>NaN</td>\n",
       "      <td>9-ano-ensino-fundamental</td>\n",
       "      <td>medalha-ouro</td>\n",
       "    </tr>\n",
       "    <tr>\n",
       "      <th>4</th>\n",
       "      <td>GUILHERME Z. HAUSSEN</td>\n",
       "      <td>COLEGIO ANCHIETA</td>\n",
       "      <td>RIO GRANDE DO SUL</td>\n",
       "      <td>Porto Alegre</td>\n",
       "      <td>NaN</td>\n",
       "      <td>9-ano-ensino-fundamental</td>\n",
       "      <td>medalha-ouro</td>\n",
       "    </tr>\n",
       "  </tbody>\n",
       "</table>\n",
       "</div>"
      ],
      "text/plain": [
       "                    Nome do Aluno                       Escola  \\\n",
       "0  LARA DANTAS DE OLIVEIRA MOISES  7 DE SETEMBRO COLEGIO - NGS   \n",
       "1        NAILTON GAMA DE CASTRO A               MASTER COLEGIO   \n",
       "2           RAFAEL MORENO RIBEIRO  COLEGIO MILITAR DE SALVADOR   \n",
       "3            ARTHUR PINTO LORENZO  COLEGIO MILITAR DE SALVADOR   \n",
       "4            GUILHERME Z. HAUSSEN             COLEGIO ANCHIETA   \n",
       "\n",
       "              Estado        Cidade  Unnamed: 4                     serie  \\\n",
       "0              CEARÁ     Fortaleza         NaN  9-ano-ensino-fundamental   \n",
       "1              CEARÁ     Fortaleza         NaN  9-ano-ensino-fundamental   \n",
       "2              BAHIA      Salvador         NaN  9-ano-ensino-fundamental   \n",
       "3              BAHIA      Salvador         NaN  9-ano-ensino-fundamental   \n",
       "4  RIO GRANDE DO SUL  Porto Alegre         NaN  9-ano-ensino-fundamental   \n",
       "\n",
       "        medalha  \n",
       "0  medalha-ouro  \n",
       "1  medalha-ouro  \n",
       "2  medalha-ouro  \n",
       "3  medalha-ouro  \n",
       "4  medalha-ouro  "
      ]
     },
     "execution_count": 10,
     "metadata": {},
     "output_type": "execute_result"
    }
   ],
   "source": [
    "appended_data.head()"
   ]
  },
  {
   "cell_type": "code",
   "execution_count": 42,
   "metadata": {},
   "outputs": [],
   "source": [
    "# Separação em diferentes dataframes de acordo com a série do participante para salvar os dados em arquivos diferentes\n",
    "series = list(appended_data['serie'].unique())\n",
    "for serie in series:\n",
    "    temp_df = appended_data[appended_data['serie'] == serie]\n",
    "    temp_df.to_csv('resultados/2019/'+serie.replace('-','_')+'.csv')"
   ]
  },
  {
   "cell_type": "markdown",
   "metadata": {},
   "source": [
    "### ONC 2018"
   ]
  },
  {
   "cell_type": "code",
   "execution_count": 11,
   "metadata": {},
   "outputs": [],
   "source": [
    "# lista dos links para o download dos arquivos pdf\n",
    "links_onc_2018= ['http://onciencias.org/resultados/download/15',\n",
    "                'http://onciencias.org/resultados/download/16',\n",
    "                'http://onciencias.org/resultados/download/17',\n",
    "                'http://onciencias.org/resultados/download/18']"
   ]
  },
  {
   "cell_type": "code",
   "execution_count": 35,
   "metadata": {},
   "outputs": [],
   "source": [
    "# Acessando as páginas de download dos arquivos do resultados da olimpíada e salvando os arquivos pdf\n",
    "for i in links_onc_2018:\n",
    "    download_file(i,'resultados/2018')"
   ]
  },
  {
   "cell_type": "markdown",
   "metadata": {
    "scrolled": true
   },
   "source": [
    "### ONC 2016"
   ]
  },
  {
   "cell_type": "code",
   "execution_count": 12,
   "metadata": {},
   "outputs": [],
   "source": [
    "# lista dos links para o download dos arquivos pdf\n",
    "links_onc_2016 = ['https://onciencias.org/resultados/download/9/ResultadoONC2016-Nivel%20D.pdf',\n",
    "'https://onciencias.org/resultados/download/8/ResultadoONC2016-Nivel%20C.pdf',\n",
    "'https://onciencias.org/resultados/download/7/ResultadoONC2016-Nivel%20B.pdf',\n",
    "'https://onciencias.org/resultados/download/6/ResultadoONC2016-Nivel%20A.pdf']"
   ]
  },
  {
   "cell_type": "code",
   "execution_count": 36,
   "metadata": {},
   "outputs": [],
   "source": [
    "# Acessando as páginas de download dos arquivos do resultados da olimpíada e salvando os arquivos pdf\n",
    "for i in links_onc_2016:\n",
    "    download_file(i,'resultados/2016')"
   ]
  },
  {
   "cell_type": "markdown",
   "metadata": {},
   "source": [
    "## Processando os arquivos pdf"
   ]
  },
  {
   "cell_type": "markdown",
   "metadata": {},
   "source": [
    "### Processando os arquivos pdf dos resultados de 2016"
   ]
  },
  {
   "cell_type": "markdown",
   "metadata": {},
   "source": [
    "- Listagem dos arquivos de 2016"
   ]
  },
  {
   "cell_type": "markdown",
   "metadata": {},
   "source": [
    "### First Try"
   ]
  },
  {
   "cell_type": "code",
   "execution_count": 4,
   "metadata": {},
   "outputs": [
    {
     "data": {
      "text/plain": [
       "['C:\\\\Users\\\\pedro\\\\Projetos\\\\onc\\\\resultados\\\\2016\\\\ResultadoONC2016-Nivel%20A.pdf',\n",
       " 'C:\\\\Users\\\\pedro\\\\Projetos\\\\onc\\\\resultados\\\\2016\\\\ResultadoONC2016-Nivel%20B.pdf',\n",
       " 'C:\\\\Users\\\\pedro\\\\Projetos\\\\onc\\\\resultados\\\\2016\\\\ResultadoONC2016-Nivel%20C.pdf',\n",
       " 'C:\\\\Users\\\\pedro\\\\Projetos\\\\onc\\\\resultados\\\\2016\\\\ResultadoONC2016-Nivel%20D.pdf']"
      ]
     },
     "execution_count": 4,
     "metadata": {},
     "output_type": "execute_result"
    }
   ],
   "source": [
    "files_2016 = get_pdf_filename('\\\\resultados\\\\2016')\n",
    "files_2016"
   ]
  },
  {
   "cell_type": "markdown",
   "metadata": {},
   "source": [
    "- Conversão dos arquivos pdf em csv"
   ]
  },
  {
   "cell_type": "code",
   "execution_count": 5,
   "metadata": {},
   "outputs": [],
   "source": [
    "for f in files_2016:\n",
    "    tabula.convert_into(f, f.replace('.pdf','.csv'), output_format=\"csv\", pages='all')"
   ]
  },
  {
   "cell_type": "markdown",
   "metadata": {},
   "source": [
    "- Conferindo os arquivos"
   ]
  },
  {
   "cell_type": "code",
   "execution_count": 6,
   "metadata": {
    "scrolled": false
   },
   "outputs": [
    {
     "data": {
      "text/html": [
       "<div>\n",
       "<style scoped>\n",
       "    .dataframe tbody tr th:only-of-type {\n",
       "        vertical-align: middle;\n",
       "    }\n",
       "\n",
       "    .dataframe tbody tr th {\n",
       "        vertical-align: top;\n",
       "    }\n",
       "\n",
       "    .dataframe thead th {\n",
       "        text-align: right;\n",
       "    }\n",
       "</style>\n",
       "<table border=\"1\" class=\"dataframe\">\n",
       "  <thead>\n",
       "    <tr style=\"text-align: right;\">\n",
       "      <th></th>\n",
       "      <th>Nome</th>\n",
       "      <th>Escola</th>\n",
       "      <th>Cidade</th>\n",
       "      <th>UF</th>\n",
       "      <th>Nota</th>\n",
       "      <th>Escore</th>\n",
       "    </tr>\n",
       "  </thead>\n",
       "  <tbody>\n",
       "    <tr>\n",
       "      <th>1452</th>\n",
       "      <td>Letícia Furtado Silva</td>\n",
       "      <td>E E Pe Anchieta</td>\n",
       "      <td>Coqueiral</td>\n",
       "      <td>MG</td>\n",
       "      <td>NaN</td>\n",
       "      <td>NaN</td>\n",
       "    </tr>\n",
       "    <tr>\n",
       "      <th>1453</th>\n",
       "      <td>NaN</td>\n",
       "      <td>NaN</td>\n",
       "      <td>NaN</td>\n",
       "      <td>NaN</td>\n",
       "      <td>NaN</td>\n",
       "      <td>NaN</td>\n",
       "    </tr>\n",
       "    <tr>\n",
       "      <th>1454</th>\n",
       "      <td>Luis Felipe Barbosa Lopes</td>\n",
       "      <td>Colégio Bom Jesus Santo Antonio</td>\n",
       "      <td>Rolandia</td>\n",
       "      <td>PR</td>\n",
       "      <td>NaN</td>\n",
       "      <td>NaN</td>\n",
       "    </tr>\n",
       "    <tr>\n",
       "      <th>1455</th>\n",
       "      <td>NaN</td>\n",
       "      <td>NaN</td>\n",
       "      <td>NaN</td>\n",
       "      <td>NaN</td>\n",
       "      <td>NaN</td>\n",
       "      <td>NaN</td>\n",
       "    </tr>\n",
       "    <tr>\n",
       "      <th>1456</th>\n",
       "      <td>Lucas Morais Ferreira</td>\n",
       "      <td>Ceefmti Daniel Comboni</td>\n",
       "      <td>Ecoporanga</td>\n",
       "      <td>ES</td>\n",
       "      <td>NaN</td>\n",
       "      <td>NaN</td>\n",
       "    </tr>\n",
       "  </tbody>\n",
       "</table>\n",
       "</div>"
      ],
      "text/plain": [
       "                           Nome                           Escola      Cidade  \\\n",
       "1452      Letícia Furtado Silva                  E E Pe Anchieta   Coqueiral   \n",
       "1453                        NaN                              NaN         NaN   \n",
       "1454  Luis Felipe Barbosa Lopes  Colégio Bom Jesus Santo Antonio    Rolandia   \n",
       "1455                        NaN                              NaN         NaN   \n",
       "1456      Lucas Morais Ferreira           Ceefmti Daniel Comboni  Ecoporanga   \n",
       "\n",
       "       UF Nota Escore  \n",
       "1452   MG  NaN    NaN  \n",
       "1453  NaN  NaN    NaN  \n",
       "1454   PR  NaN    NaN  \n",
       "1455  NaN  NaN    NaN  \n",
       "1456   ES  NaN    NaN  "
      ]
     },
     "execution_count": 6,
     "metadata": {},
     "output_type": "execute_result"
    }
   ],
   "source": [
    "pd.read_csv(files_2016[0].replace('.pdf','.csv'),encoding='latin-1').tail()"
   ]
  },
  {
   "cell_type": "code",
   "execution_count": 7,
   "metadata": {},
   "outputs": [],
   "source": [
    "tdf = pd.read_csv(files_2016[0].replace('.pdf','.csv'),encoding='latin-1')"
   ]
  },
  {
   "cell_type": "code",
   "execution_count": 10,
   "metadata": {},
   "outputs": [
    {
     "data": {
      "text/plain": [
       "False"
      ]
     },
     "execution_count": 10,
     "metadata": {},
     "output_type": "execute_result"
    }
   ],
   "source": [
    "tdf.iloc[-1]['Nome'] == last_name_a"
   ]
  },
  {
   "cell_type": "code",
   "execution_count": 11,
   "metadata": {},
   "outputs": [],
   "source": [
    "last_names = ['Tcharly Miguel Santana Santos',\n",
    "'Juliana Barros Navarro',\n",
    "'Gabriel Pita Rios',\n",
    "'Matheus Fernandes Flores']"
   ]
  },
  {
   "cell_type": "markdown",
   "metadata": {},
   "source": [
    "> Após ler o arquivo pdf, identifiquei que a última página do primeiro arquivo não foi lida. Isso pode ser corrigido alterando a área de seleção. [Link do tutorial](https://aegis4048.github.io/parse-pdf-files-while-retaining-structure-with-tabula-py)."
   ]
  },
  {
   "cell_type": "code",
   "execution_count": 10,
   "metadata": {},
   "outputs": [],
   "source": [
    "def read_pdffile(pdf_filename):\n",
    "    tables = tabula.read_pdf(pdf_filename, output_format=\"json\", pages=2, silent=True)\n",
    "    top = tables[0][\"top\"]\n",
    "    left = tables[0][\"left\"]\n",
    "    bottom = tables[0][\"height\"]+30\n",
    "    right = tables[0][\"width\"]\n",
    "    left = 0\n",
    "    top = 0\n",
    "    test_area = [top, left, bottom, right]\n",
    "    print(test_area)\n",
    "    return tabula.read_pdf(pdf_filename,multiple_tables=True,pages=\"all\",area=test_area,silent=True)    "
   ]
  },
  {
   "cell_type": "code",
   "execution_count": 9,
   "metadata": {},
   "outputs": [
    {
     "name": "stdout",
     "output_type": "stream",
     "text": [
      "[22.210886, 0, 764.7825927734375, 524.549072265625]\n"
     ]
    },
    {
     "data": {
      "text/html": [
       "<div>\n",
       "<style scoped>\n",
       "    .dataframe tbody tr th:only-of-type {\n",
       "        vertical-align: middle;\n",
       "    }\n",
       "\n",
       "    .dataframe tbody tr th {\n",
       "        vertical-align: top;\n",
       "    }\n",
       "\n",
       "    .dataframe thead th {\n",
       "        text-align: right;\n",
       "    }\n",
       "</style>\n",
       "<table border=\"1\" class=\"dataframe\">\n",
       "  <thead>\n",
       "    <tr style=\"text-align: right;\">\n",
       "      <th></th>\n",
       "      <th>Emerson Juarez Ribeiro Martins Farias</th>\n",
       "      <th>Vale Do Curtume E E F M</th>\n",
       "      <th>Nova Russas</th>\n",
       "      <th>CE</th>\n",
       "      <th>Unnamed: 0</th>\n",
       "    </tr>\n",
       "  </thead>\n",
       "  <tbody>\n",
       "    <tr>\n",
       "      <th>26</th>\n",
       "      <td>Gabriel Pradela</td>\n",
       "      <td>Colégio Objetivo Arujá</td>\n",
       "      <td>Aruja</td>\n",
       "      <td>SP</td>\n",
       "      <td>NaN</td>\n",
       "    </tr>\n",
       "    <tr>\n",
       "      <th>27</th>\n",
       "      <td>Gabriel Kashiwazaki</td>\n",
       "      <td>Colégio Elite</td>\n",
       "      <td>Campinas</td>\n",
       "      <td>SP</td>\n",
       "      <td>NaN</td>\n",
       "    </tr>\n",
       "    <tr>\n",
       "      <th>28</th>\n",
       "      <td>Renata Cristiane Rodrigues Ferreira</td>\n",
       "      <td>Colégio Objetivo Mairiporã</td>\n",
       "      <td>Mairipora</td>\n",
       "      <td>SP</td>\n",
       "      <td>NaN</td>\n",
       "    </tr>\n",
       "    <tr>\n",
       "      <th>29</th>\n",
       "      <td>Fernanda Lopes Ramalho</td>\n",
       "      <td>Etec De Monte Mor</td>\n",
       "      <td>Monte Mor</td>\n",
       "      <td>SP</td>\n",
       "      <td>NaN</td>\n",
       "    </tr>\n",
       "    <tr>\n",
       "      <th>30</th>\n",
       "      <td>Matheus Fernandes Flores</td>\n",
       "      <td>Votuporanguense De Ensino Escola</td>\n",
       "      <td>Votuporanga</td>\n",
       "      <td>SP</td>\n",
       "      <td>NaN</td>\n",
       "    </tr>\n",
       "  </tbody>\n",
       "</table>\n",
       "</div>"
      ],
      "text/plain": [
       "   Emerson Juarez Ribeiro Martins Farias           Vale Do Curtume E E F M  \\\n",
       "26                       Gabriel Pradela            Colégio Objetivo Arujá   \n",
       "27                   Gabriel Kashiwazaki                     Colégio Elite   \n",
       "28   Renata Cristiane Rodrigues Ferreira        Colégio Objetivo Mairiporã   \n",
       "29                Fernanda Lopes Ramalho                 Etec De Monte Mor   \n",
       "30              Matheus Fernandes Flores  Votuporanguense De Ensino Escola   \n",
       "\n",
       "    Nova Russas  CE  Unnamed: 0  \n",
       "26        Aruja  SP         NaN  \n",
       "27     Campinas  SP         NaN  \n",
       "28    Mairipora  SP         NaN  \n",
       "29    Monte Mor  SP         NaN  \n",
       "30  Votuporanga  SP         NaN  "
      ]
     },
     "execution_count": 9,
     "metadata": {},
     "output_type": "execute_result"
    }
   ],
   "source": [
    "dfs = read_pdffile(files_2016[3])\n",
    "dfs[-2].tail()"
   ]
  },
  {
   "cell_type": "code",
   "execution_count": 11,
   "metadata": {
    "scrolled": false
   },
   "outputs": [
    {
     "data": {
      "text/html": [
       "<div>\n",
       "<style scoped>\n",
       "    .dataframe tbody tr th:only-of-type {\n",
       "        vertical-align: middle;\n",
       "    }\n",
       "\n",
       "    .dataframe tbody tr th {\n",
       "        vertical-align: top;\n",
       "    }\n",
       "\n",
       "    .dataframe thead th {\n",
       "        text-align: right;\n",
       "    }\n",
       "</style>\n",
       "<table border=\"1\" class=\"dataframe\">\n",
       "  <thead>\n",
       "    <tr style=\"text-align: right;\">\n",
       "      <th></th>\n",
       "      <th>Cairo Henrique Cardoso Pereira</th>\n",
       "      <th>Sesi 268 Centro Educacional</th>\n",
       "      <th>Presidente Epitacio</th>\n",
       "      <th>SP</th>\n",
       "      <th>Unnamed: 0</th>\n",
       "    </tr>\n",
       "  </thead>\n",
       "  <tbody>\n",
       "    <tr>\n",
       "      <th>43</th>\n",
       "      <td>Laíla De Moura Luz</td>\n",
       "      <td>Campus Picos Do Instituto Federal\\rDo Piaui</td>\n",
       "      <td>Picos</td>\n",
       "      <td>PI</td>\n",
       "      <td>NaN</td>\n",
       "    </tr>\n",
       "    <tr>\n",
       "      <th>44</th>\n",
       "      <td>Vinícius Maia Neto</td>\n",
       "      <td>Colégio Nossa Senhora Do Amparo</td>\n",
       "      <td>Barra Mansa</td>\n",
       "      <td>RJ</td>\n",
       "      <td>NaN</td>\n",
       "    </tr>\n",
       "    <tr>\n",
       "      <th>45</th>\n",
       "      <td>Lucas Christyan Da Rocha Oliveira</td>\n",
       "      <td>Colégio Diocesano Santa Luzia</td>\n",
       "      <td>Mossoro</td>\n",
       "      <td>RN</td>\n",
       "      <td>NaN</td>\n",
       "    </tr>\n",
       "    <tr>\n",
       "      <th>46</th>\n",
       "      <td>Giorgi Bruno Soares De Sousa</td>\n",
       "      <td>IFRN - Cidade Alta</td>\n",
       "      <td>Natal</td>\n",
       "      <td>RN</td>\n",
       "      <td>NaN</td>\n",
       "    </tr>\n",
       "    <tr>\n",
       "      <th>47</th>\n",
       "      <td>Matheus Cavalcante Muricy</td>\n",
       "      <td>Centro Educacional Objetivo</td>\n",
       "      <td>Porto Velho</td>\n",
       "      <td>RO</td>\n",
       "      <td>NaN</td>\n",
       "    </tr>\n",
       "  </tbody>\n",
       "</table>\n",
       "</div>"
      ],
      "text/plain": [
       "       Cairo Henrique Cardoso Pereira  \\\n",
       "43                 Laíla De Moura Luz   \n",
       "44                 Vinícius Maia Neto   \n",
       "45  Lucas Christyan Da Rocha Oliveira   \n",
       "46       Giorgi Bruno Soares De Sousa   \n",
       "47          Matheus Cavalcante Muricy   \n",
       "\n",
       "                    Sesi 268 Centro Educacional Presidente Epitacio  SP  \\\n",
       "43  Campus Picos Do Instituto Federal\\rDo Piaui               Picos  PI   \n",
       "44              Colégio Nossa Senhora Do Amparo         Barra Mansa  RJ   \n",
       "45                Colégio Diocesano Santa Luzia             Mossoro  RN   \n",
       "46                           IFRN - Cidade Alta               Natal  RN   \n",
       "47                  Centro Educacional Objetivo         Porto Velho  RO   \n",
       "\n",
       "    Unnamed: 0  \n",
       "43         NaN  \n",
       "44         NaN  \n",
       "45         NaN  \n",
       "46         NaN  \n",
       "47         NaN  "
      ]
     },
     "execution_count": 11,
     "metadata": {},
     "output_type": "execute_result"
    }
   ],
   "source": [
    "dfs[-3].tail()"
   ]
  },
  {
   "cell_type": "code",
   "execution_count": 99,
   "metadata": {},
   "outputs": [],
   "source": [
    "pdf_filename = files_2016[3]\n",
    "tables = tabula.read_pdf(pdf_filename, output_format=\"json\", pages=9, silent=True)\n",
    "top = tables[0][\"top\"]\n",
    "left = tables[0][\"left\"]\n",
    "bottom = tables[0][\"height\"]+30\n",
    "right = tables[0][\"width\"]\n",
    "\n",
    "test_area = [top, 0, bottom, right]\n",
    "\n",
    "tdf1 = tabula.read_pdf(pdf_filename,multiple_tables=True,pages=\"9\",area=test_area,silent=True)    "
   ]
  },
  {
   "cell_type": "code",
   "execution_count": 96,
   "metadata": {},
   "outputs": [],
   "source": [
    "def read_page(pdf_filename,number_page):\n",
    "    tables = tabula.read_pdf(pdf_filename, output_format=\"json\", pages=number_page, silent=True)\n",
    "    top = tables[0][\"top\"]\n",
    "    left = tables[0][\"left\"]\n",
    "    bottom = tables[0][\"height\"]+30\n",
    "    right = tables[0][\"width\"]\n",
    "    left = 0\n",
    "    top = 0\n",
    "    test_area = [top, left, bottom, right]\n",
    "    #print(test_area)\n",
    "    return tabula.read_pdf(pdf_filename,multiple_tables=False,pages=number_page,area=test_area,silent=True)    "
   ]
  },
  {
   "cell_type": "code",
   "execution_count": 193,
   "metadata": {},
   "outputs": [],
   "source": [
    "cols = ['Nome', 'Escola', 'Cidade', 'UF', 'Nota']\n",
    "pdf_filename = files_2016[3]\n",
    "\n",
    "try:\n",
    "    dfs = []\n",
    "    for i in range(1,12):\n",
    "        temp_df = read_page(pdf_filename,i)[0]\n",
    "        temp_df.columns = cols # Update columns name\n",
    "        dfs.append(temp_df)\n",
    "except Exception as e:\n",
    "    print(e)\n",
    "    \n",
    "dfs = pd.concat(dfs,ignore_index=True) # Concat the dataframes\n",
    "dfs['Nota'] = dfs['Nota'].str.replace(',','.') # Replace , to .\n",
    "dfs['Nota'] = pd.to_numeric(dfs['Nota'], downcast=\"float\") # Convert string column to float"
   ]
  },
  {
   "cell_type": "code",
   "execution_count": 207,
   "metadata": {
    "scrolled": true
   },
   "outputs": [
    {
     "data": {
      "text/plain": [
       "Int64Index([1, 8, 18, 37], dtype='int64')"
      ]
     },
     "execution_count": 207,
     "metadata": {},
     "output_type": "execute_result"
    }
   ],
   "source": [
    "# Identify the inteval of the medalhists\n",
    "medal_index = dfs.index[dfs['Nome'].isin(['O U R O','P R A T A','B R O N Z E','M E N Ç Ã O    H O N R O S A'])]\n",
    "medal_index"
   ]
  },
  {
   "cell_type": "code",
   "execution_count": null,
   "metadata": {},
   "outputs": [],
   "source": []
  },
  {
   "cell_type": "code",
   "execution_count": null,
   "metadata": {},
   "outputs": [],
   "source": []
  },
  {
   "cell_type": "code",
   "execution_count": 263,
   "metadata": {},
   "outputs": [],
   "source": [
    "def test(row):\n",
    "    \n",
    "    if(medal_index[0] < row.name and row.name < medal_index[1]):\n",
    "        return 'Ouro'\n",
    "    elif(medal_index[1] < row.name and row.name < medal_index[2]):\n",
    "        return 'Prata'\n",
    "    elif(medal_index[2] < row.name and row.name < medal_index[3]):\n",
    "        return 'Bronze'\n",
    "    elif(medal_index[3] < row.name and math.isnan(row['Nota'])):\n",
    "        return 'Honra'\n",
    "    else:\n",
    "        return 'Nenhuma'"
   ]
  },
  {
   "cell_type": "code",
   "execution_count": 270,
   "metadata": {},
   "outputs": [],
   "source": [
    "# Setting medal column\n",
    "dfs['medal'] = dfs.apply(test,axis=1)"
   ]
  },
  {
   "cell_type": "code",
   "execution_count": 269,
   "metadata": {},
   "outputs": [
    {
     "data": {
      "text/plain": [
       "0     Nenhuma\n",
       "1     Nenhuma\n",
       "2        Ouro\n",
       "3        Ouro\n",
       "4        Ouro\n",
       "5        Ouro\n",
       "6        Ouro\n",
       "7        Ouro\n",
       "8     Nenhuma\n",
       "9       Prata\n",
       "10      Prata\n",
       "11      Prata\n",
       "12      Prata\n",
       "13      Prata\n",
       "14      Prata\n",
       "15      Prata\n",
       "16      Prata\n",
       "17      Prata\n",
       "18    Nenhuma\n",
       "19     Bronze\n",
       "20     Bronze\n",
       "21     Bronze\n",
       "22     Bronze\n",
       "23     Bronze\n",
       "24     Bronze\n",
       "25     Bronze\n",
       "26     Bronze\n",
       "27     Bronze\n",
       "28     Bronze\n",
       "29     Bronze\n",
       "30     Bronze\n",
       "31     Bronze\n",
       "32     Bronze\n",
       "33     Bronze\n",
       "34     Bronze\n",
       "35     Bronze\n",
       "36     Bronze\n",
       "37    Nenhuma\n",
       "38    Nenhuma\n",
       "39    Nenhuma\n",
       "Name: medal, dtype: object"
      ]
     },
     "execution_count": 269,
     "metadata": {},
     "output_type": "execute_result"
    }
   ],
   "source": [
    "dfs['medal'].head(40)"
   ]
  },
  {
   "cell_type": "code",
   "execution_count": 262,
   "metadata": {},
   "outputs": [],
   "source": [
    "dfs['Nota'] = pd.to_numeric(dfs['Nota'], downcast=\"float\")"
   ]
  },
  {
   "cell_type": "code",
   "execution_count": 254,
   "metadata": {
    "scrolled": false
   },
   "outputs": [
    {
     "data": {
      "text/plain": [
       "False"
      ]
     },
     "execution_count": 254,
     "metadata": {},
     "output_type": "execute_result"
    }
   ],
   "source": [
    "not math.isnan(dfs.iloc[-1]['Nota'])"
   ]
  },
  {
   "cell_type": "code",
   "execution_count": 252,
   "metadata": {},
   "outputs": [
    {
     "data": {
      "text/plain": [
       "'41,5'"
      ]
     },
     "execution_count": 252,
     "metadata": {},
     "output_type": "execute_result"
    }
   ],
   "source": [
    "dfs.iloc[100]['Nota']"
   ]
  },
  {
   "cell_type": "code",
   "execution_count": 258,
   "metadata": {},
   "outputs": [],
   "source": []
  },
  {
   "cell_type": "code",
   "execution_count": null,
   "metadata": {},
   "outputs": [],
   "source": []
  },
  {
   "cell_type": "markdown",
   "metadata": {},
   "source": [
    "- Salvando o arquivo pdf em formato csv"
   ]
  },
  {
   "cell_type": "code",
   "execution_count": 123,
   "metadata": {},
   "outputs": [],
   "source": [
    "df[0].to_csv(files_2016[0].replace('.pdf','.csv'),index=False)"
   ]
  },
  {
   "cell_type": "markdown",
   "metadata": {},
   "source": [
    "- Removendo linhas com valores nulos"
   ]
  },
  {
   "cell_type": "code",
   "execution_count": 10,
   "metadata": {},
   "outputs": [
    {
     "data": {
      "text/html": [
       "<div>\n",
       "<style scoped>\n",
       "    .dataframe tbody tr th:only-of-type {\n",
       "        vertical-align: middle;\n",
       "    }\n",
       "\n",
       "    .dataframe tbody tr th {\n",
       "        vertical-align: top;\n",
       "    }\n",
       "\n",
       "    .dataframe thead th {\n",
       "        text-align: right;\n",
       "    }\n",
       "</style>\n",
       "<table border=\"1\" class=\"dataframe\">\n",
       "  <thead>\n",
       "    <tr style=\"text-align: right;\">\n",
       "      <th></th>\n",
       "      <th>Nome</th>\n",
       "      <th>Escola</th>\n",
       "      <th>Cidade</th>\n",
       "      <th>UF</th>\n",
       "      <th>Nota</th>\n",
       "      <th>Escore</th>\n",
       "    </tr>\n",
       "  </thead>\n",
       "  <tbody>\n",
       "    <tr>\n",
       "      <th>1370</th>\n",
       "      <td>Bruna Rafaela Barbosa E Silva</td>\n",
       "      <td>Dr Eloy de Souza</td>\n",
       "      <td>Acu</td>\n",
       "      <td>RN</td>\n",
       "      <td>NaN</td>\n",
       "      <td>NaN</td>\n",
       "    </tr>\n",
       "    <tr>\n",
       "      <th>1371</th>\n",
       "      <td>NaN</td>\n",
       "      <td>NaN</td>\n",
       "      <td>NaN</td>\n",
       "      <td>NaN</td>\n",
       "      <td>NaN</td>\n",
       "      <td>NaN</td>\n",
       "    </tr>\n",
       "    <tr>\n",
       "      <th>1372</th>\n",
       "      <td>Tanise Vieira</td>\n",
       "      <td>Colégio Dom Feliciano</td>\n",
       "      <td>Gravatai</td>\n",
       "      <td>RS</td>\n",
       "      <td>NaN</td>\n",
       "      <td>NaN</td>\n",
       "    </tr>\n",
       "    <tr>\n",
       "      <th>1373</th>\n",
       "      <td>NaN</td>\n",
       "      <td>NaN</td>\n",
       "      <td>NaN</td>\n",
       "      <td>NaN</td>\n",
       "      <td>NaN</td>\n",
       "      <td>NaN</td>\n",
       "    </tr>\n",
       "    <tr>\n",
       "      <th>1374</th>\n",
       "      <td>Tcharly Miguel  Santana Santos</td>\n",
       "      <td>Escola Viva</td>\n",
       "      <td>Carmopolis</td>\n",
       "      <td>SE</td>\n",
       "      <td>NaN</td>\n",
       "      <td>NaN</td>\n",
       "    </tr>\n",
       "  </tbody>\n",
       "</table>\n",
       "</div>"
      ],
      "text/plain": [
       "                                Nome                 Escola      Cidade   UF  \\\n",
       "1370   Bruna Rafaela Barbosa E Silva       Dr Eloy de Souza         Acu   RN   \n",
       "1371                             NaN                    NaN         NaN  NaN   \n",
       "1372                   Tanise Vieira  Colégio Dom Feliciano    Gravatai   RS   \n",
       "1373                             NaN                    NaN         NaN  NaN   \n",
       "1374  Tcharly Miguel  Santana Santos            Escola Viva  Carmopolis   SE   \n",
       "\n",
       "     Nota Escore  \n",
       "1370  NaN    NaN  \n",
       "1371  NaN    NaN  \n",
       "1372  NaN    NaN  \n",
       "1373  NaN    NaN  \n",
       "1374  NaN    NaN  "
      ]
     },
     "execution_count": 10,
     "metadata": {},
     "output_type": "execute_result"
    }
   ],
   "source": [
    "pd.read_csv(files_2016[0].replace('.pdf','.csv'),encoding='utf8').tail()"
   ]
  },
  {
   "cell_type": "code",
   "execution_count": 34,
   "metadata": {},
   "outputs": [
    {
     "data": {
      "text/html": [
       "<div>\n",
       "<style scoped>\n",
       "    .dataframe tbody tr th:only-of-type {\n",
       "        vertical-align: middle;\n",
       "    }\n",
       "\n",
       "    .dataframe tbody tr th {\n",
       "        vertical-align: top;\n",
       "    }\n",
       "\n",
       "    .dataframe thead th {\n",
       "        text-align: right;\n",
       "    }\n",
       "</style>\n",
       "<table border=\"1\" class=\"dataframe\">\n",
       "  <thead>\n",
       "    <tr style=\"text-align: right;\">\n",
       "      <th></th>\n",
       "      <th>Nome</th>\n",
       "      <th>Escola</th>\n",
       "      <th>Cidade</th>\n",
       "      <th>UF</th>\n",
       "      <th>Nota</th>\n",
       "      <th>Escore</th>\n",
       "    </tr>\n",
       "  </thead>\n",
       "  <tbody>\n",
       "    <tr>\n",
       "      <th>0</th>\n",
       "      <td>O U R O</td>\n",
       "      <td>NaN</td>\n",
       "      <td>NaN</td>\n",
       "      <td>NaN</td>\n",
       "      <td>NaN</td>\n",
       "      <td>NaN</td>\n",
       "    </tr>\n",
       "    <tr>\n",
       "      <th>1</th>\n",
       "      <td>Pedro Jatobá Arteiro</td>\n",
       "      <td>Colégio Santa Maria</td>\n",
       "      <td>Recife</td>\n",
       "      <td>PE</td>\n",
       "      <td>78</td>\n",
       "      <td>100,0</td>\n",
       "    </tr>\n",
       "    <tr>\n",
       "      <th>2</th>\n",
       "      <td>Amanda Onofre Neves Nóbrega</td>\n",
       "      <td>Antares Colégio</td>\n",
       "      <td>Fortaleza</td>\n",
       "      <td>CE</td>\n",
       "      <td>77,5</td>\n",
       "      <td>99,4</td>\n",
       "    </tr>\n",
       "    <tr>\n",
       "      <th>3</th>\n",
       "      <td>Thiago Eklésio Silveira Peixoto</td>\n",
       "      <td>Farias Brito</td>\n",
       "      <td>Fortaleza</td>\n",
       "      <td>CE</td>\n",
       "      <td>76</td>\n",
       "      <td>97,4</td>\n",
       "    </tr>\n",
       "    <tr>\n",
       "      <th>4</th>\n",
       "      <td>Marco Antônio de Lima Sampaio</td>\n",
       "      <td>Colégio Contato</td>\n",
       "      <td>Maceio</td>\n",
       "      <td>AL</td>\n",
       "      <td>75</td>\n",
       "      <td>96,2</td>\n",
       "    </tr>\n",
       "  </tbody>\n",
       "</table>\n",
       "</div>"
      ],
      "text/plain": [
       "                              Nome               Escola     Cidade   UF  Nota  \\\n",
       "0                          O U R O                  NaN        NaN  NaN   NaN   \n",
       "1             Pedro Jatobá Arteiro  Colégio Santa Maria     Recife   PE    78   \n",
       "2      Amanda Onofre Neves Nóbrega      Antares Colégio  Fortaleza   CE  77,5   \n",
       "3  Thiago Eklésio Silveira Peixoto         Farias Brito  Fortaleza   CE    76   \n",
       "4    Marco Antônio de Lima Sampaio      Colégio Contato     Maceio   AL    75   \n",
       "\n",
       "  Escore  \n",
       "0    NaN  \n",
       "1  100,0  \n",
       "2   99,4  \n",
       "3   97,4  \n",
       "4   96,2  "
      ]
     },
     "execution_count": 34,
     "metadata": {},
     "output_type": "execute_result"
    }
   ],
   "source": [
    "df = pd.read_csv(files_2016[0].replace('.pdf','.csv'),encoding='utf8')\n",
    "df.head()"
   ]
  },
  {
   "cell_type": "code",
   "execution_count": 15,
   "metadata": {},
   "outputs": [
    {
     "data": {
      "text/html": [
       "<div>\n",
       "<style scoped>\n",
       "    .dataframe tbody tr th:only-of-type {\n",
       "        vertical-align: middle;\n",
       "    }\n",
       "\n",
       "    .dataframe tbody tr th {\n",
       "        vertical-align: top;\n",
       "    }\n",
       "\n",
       "    .dataframe thead th {\n",
       "        text-align: right;\n",
       "    }\n",
       "</style>\n",
       "<table border=\"1\" class=\"dataframe\">\n",
       "  <thead>\n",
       "    <tr style=\"text-align: right;\">\n",
       "      <th></th>\n",
       "      <th>Nome</th>\n",
       "      <th>Escola</th>\n",
       "      <th>Cidade</th>\n",
       "      <th>UF</th>\n",
       "      <th>Nota</th>\n",
       "      <th>Escore</th>\n",
       "    </tr>\n",
       "  </thead>\n",
       "  <tbody>\n",
       "    <tr>\n",
       "      <th>1366</th>\n",
       "      <td>Everton Daniel da Silva</td>\n",
       "      <td>Escola Aluisio Germano</td>\n",
       "      <td>Carpina</td>\n",
       "      <td>PE</td>\n",
       "      <td>NaN</td>\n",
       "      <td>NaN</td>\n",
       "    </tr>\n",
       "    <tr>\n",
       "      <th>1368</th>\n",
       "      <td>Alexandre da Silva Gomes</td>\n",
       "      <td>Dr Eloy de Souza</td>\n",
       "      <td>Acu</td>\n",
       "      <td>RN</td>\n",
       "      <td>NaN</td>\n",
       "      <td>NaN</td>\n",
       "    </tr>\n",
       "    <tr>\n",
       "      <th>1370</th>\n",
       "      <td>Bruna Rafaela Barbosa E Silva</td>\n",
       "      <td>Dr Eloy de Souza</td>\n",
       "      <td>Acu</td>\n",
       "      <td>RN</td>\n",
       "      <td>NaN</td>\n",
       "      <td>NaN</td>\n",
       "    </tr>\n",
       "    <tr>\n",
       "      <th>1372</th>\n",
       "      <td>Tanise Vieira</td>\n",
       "      <td>Colégio Dom Feliciano</td>\n",
       "      <td>Gravatai</td>\n",
       "      <td>RS</td>\n",
       "      <td>NaN</td>\n",
       "      <td>NaN</td>\n",
       "    </tr>\n",
       "    <tr>\n",
       "      <th>1374</th>\n",
       "      <td>Tcharly Miguel  Santana Santos</td>\n",
       "      <td>Escola Viva</td>\n",
       "      <td>Carmopolis</td>\n",
       "      <td>SE</td>\n",
       "      <td>NaN</td>\n",
       "      <td>NaN</td>\n",
       "    </tr>\n",
       "  </tbody>\n",
       "</table>\n",
       "</div>"
      ],
      "text/plain": [
       "                                Nome                  Escola      Cidade  UF  \\\n",
       "1366         Everton Daniel da Silva  Escola Aluisio Germano     Carpina  PE   \n",
       "1368        Alexandre da Silva Gomes        Dr Eloy de Souza         Acu  RN   \n",
       "1370   Bruna Rafaela Barbosa E Silva        Dr Eloy de Souza         Acu  RN   \n",
       "1372                   Tanise Vieira   Colégio Dom Feliciano    Gravatai  RS   \n",
       "1374  Tcharly Miguel  Santana Santos             Escola Viva  Carmopolis  SE   \n",
       "\n",
       "     Nota Escore  \n",
       "1366  NaN    NaN  \n",
       "1368  NaN    NaN  \n",
       "1370  NaN    NaN  \n",
       "1372  NaN    NaN  \n",
       "1374  NaN    NaN  "
      ]
     },
     "execution_count": 15,
     "metadata": {},
     "output_type": "execute_result"
    }
   ],
   "source": [
    "df.dropna(how='all',inplace=True)\n",
    "df.tail()"
   ]
  },
  {
   "cell_type": "code",
   "execution_count": 35,
   "metadata": {},
   "outputs": [
    {
     "data": {
      "text/html": [
       "<div>\n",
       "<style scoped>\n",
       "    .dataframe tbody tr th:only-of-type {\n",
       "        vertical-align: middle;\n",
       "    }\n",
       "\n",
       "    .dataframe tbody tr th {\n",
       "        vertical-align: top;\n",
       "    }\n",
       "\n",
       "    .dataframe thead th {\n",
       "        text-align: right;\n",
       "    }\n",
       "</style>\n",
       "<table border=\"1\" class=\"dataframe\">\n",
       "  <thead>\n",
       "    <tr style=\"text-align: right;\">\n",
       "      <th></th>\n",
       "      <th>Nome</th>\n",
       "      <th>Escola</th>\n",
       "      <th>Cidade</th>\n",
       "      <th>UF</th>\n",
       "      <th>Nota</th>\n",
       "      <th>Escore</th>\n",
       "    </tr>\n",
       "  </thead>\n",
       "  <tbody>\n",
       "    <tr>\n",
       "      <th>932</th>\n",
       "      <td>NaN</td>\n",
       "      <td>NaN</td>\n",
       "      <td>NaN</td>\n",
       "      <td>NaN</td>\n",
       "      <td>NaN</td>\n",
       "      <td>NaN</td>\n",
       "    </tr>\n",
       "    <tr>\n",
       "      <th>312</th>\n",
       "      <td>NaN</td>\n",
       "      <td>NaN</td>\n",
       "      <td>NaN</td>\n",
       "      <td>NaN</td>\n",
       "      <td>NaN</td>\n",
       "      <td>NaN</td>\n",
       "    </tr>\n",
       "    <tr>\n",
       "      <th>723</th>\n",
       "      <td>Iara  Dorigon</td>\n",
       "      <td>Colégio Olimpo</td>\n",
       "      <td>Palmas</td>\n",
       "      <td>TO</td>\n",
       "      <td>NaN</td>\n",
       "      <td>NaN</td>\n",
       "    </tr>\n",
       "    <tr>\n",
       "      <th>695</th>\n",
       "      <td>Gabriel Rodrigues Carrijo</td>\n",
       "      <td>Col Exitus</td>\n",
       "      <td>Uberlandia</td>\n",
       "      <td>MG</td>\n",
       "      <td>NaN</td>\n",
       "      <td>NaN</td>\n",
       "    </tr>\n",
       "    <tr>\n",
       "      <th>536</th>\n",
       "      <td>Paulo Vitor Silva Santos</td>\n",
       "      <td>Colégio Cristo Rei</td>\n",
       "      <td>Maceio</td>\n",
       "      <td>AL</td>\n",
       "      <td>NaN</td>\n",
       "      <td>NaN</td>\n",
       "    </tr>\n",
       "    <tr>\n",
       "      <th>41</th>\n",
       "      <td>Joaquim Miguel Moreira Santiago</td>\n",
       "      <td>Ari de Sá Cavalcante</td>\n",
       "      <td>Fortaleza</td>\n",
       "      <td>CE</td>\n",
       "      <td>67,5</td>\n",
       "      <td>86,54</td>\n",
       "    </tr>\n",
       "    <tr>\n",
       "      <th>321</th>\n",
       "      <td>Ana Gabriela Ponte Farias</td>\n",
       "      <td>NaN</td>\n",
       "      <td>Antares Colégio</td>\n",
       "      <td>Fortaleza</td>\n",
       "      <td>CE</td>\n",
       "      <td>NaN</td>\n",
       "    </tr>\n",
       "    <tr>\n",
       "      <th>807</th>\n",
       "      <td>NaN</td>\n",
       "      <td>NaN</td>\n",
       "      <td>NaN</td>\n",
       "      <td>NaN</td>\n",
       "      <td>NaN</td>\n",
       "      <td>NaN</td>\n",
       "    </tr>\n",
       "    <tr>\n",
       "      <th>1241</th>\n",
       "      <td>Guilherme Gomes de Souza</td>\n",
       "      <td>EMEF Rodrigo de Argolo Caracas</td>\n",
       "      <td>Guaramiranga</td>\n",
       "      <td>CE</td>\n",
       "      <td>NaN</td>\n",
       "      <td>NaN</td>\n",
       "    </tr>\n",
       "    <tr>\n",
       "      <th>510</th>\n",
       "      <td>Ana Luiza Correia Veras</td>\n",
       "      <td>Antares Colégio</td>\n",
       "      <td>Fortaleza</td>\n",
       "      <td>CE</td>\n",
       "      <td>NaN</td>\n",
       "      <td>NaN</td>\n",
       "    </tr>\n",
       "  </tbody>\n",
       "</table>\n",
       "</div>"
      ],
      "text/plain": [
       "                                 Nome                          Escola  \\\n",
       "932                               NaN                             NaN   \n",
       "312                               NaN                             NaN   \n",
       "723                     Iara  Dorigon                  Colégio Olimpo   \n",
       "695         Gabriel Rodrigues Carrijo                      Col Exitus   \n",
       "536          Paulo Vitor Silva Santos              Colégio Cristo Rei   \n",
       "41    Joaquim Miguel Moreira Santiago            Ari de Sá Cavalcante   \n",
       "321         Ana Gabriela Ponte Farias                             NaN   \n",
       "807                               NaN                             NaN   \n",
       "1241         Guilherme Gomes de Souza  EMEF Rodrigo de Argolo Caracas   \n",
       "510           Ana Luiza Correia Veras                 Antares Colégio   \n",
       "\n",
       "               Cidade         UF  Nota Escore  \n",
       "932               NaN        NaN   NaN    NaN  \n",
       "312               NaN        NaN   NaN    NaN  \n",
       "723            Palmas         TO   NaN    NaN  \n",
       "695        Uberlandia         MG   NaN    NaN  \n",
       "536            Maceio         AL   NaN    NaN  \n",
       "41          Fortaleza         CE  67,5  86,54  \n",
       "321   Antares Colégio  Fortaleza    CE    NaN  \n",
       "807               NaN        NaN   NaN    NaN  \n",
       "1241     Guaramiranga         CE   NaN    NaN  \n",
       "510         Fortaleza         CE   NaN    NaN  "
      ]
     },
     "execution_count": 35,
     "metadata": {},
     "output_type": "execute_result"
    }
   ],
   "source": [
    "df.sample(10)"
   ]
  },
  {
   "cell_type": "code",
   "execution_count": null,
   "metadata": {},
   "outputs": [],
   "source": [
    "125"
   ]
  },
  {
   "cell_type": "code",
   "execution_count": 61,
   "metadata": {},
   "outputs": [],
   "source": [
    "def read_pdf(filename):\n",
    "    tables = tabula.read_pdf(filename, output_format=\"json\", pages=2, silent=True)\n",
    "    top = tables[0][\"top\"]\n",
    "    left = tables[0][\"left\"]\n",
    "    bottom = tables[0][\"height\"] + top\n",
    "    right = tables[0][\"width\"] + left\n",
    "\n",
    "    test_area = [top, left, bottom, right]\n",
    "\n",
    "    return tabula.read_pdf(filename,multiple_tables=True,pages=\"all\",area=test_area,silent=True)"
   ]
  },
  {
   "cell_type": "code",
   "execution_count": null,
   "metadata": {},
   "outputs": [],
   "source": [
    "df = read_pdf(files_2016[0])"
   ]
  },
  {
   "cell_type": "code",
   "execution_count": 67,
   "metadata": {},
   "outputs": [
    {
     "data": {
      "text/plain": [
       "(50, 6)"
      ]
     },
     "execution_count": 67,
     "metadata": {},
     "output_type": "execute_result"
    }
   ],
   "source": [
    "df[2].shape"
   ]
  },
  {
   "cell_type": "code",
   "execution_count": 70,
   "metadata": {
    "collapsed": true
   },
   "outputs": [
    {
     "data": {
      "text/html": [
       "<div>\n",
       "<style scoped>\n",
       "    .dataframe tbody tr th:only-of-type {\n",
       "        vertical-align: middle;\n",
       "    }\n",
       "\n",
       "    .dataframe tbody tr th {\n",
       "        vertical-align: top;\n",
       "    }\n",
       "\n",
       "    .dataframe thead th {\n",
       "        text-align: right;\n",
       "    }\n",
       "</style>\n",
       "<table border=\"1\" class=\"dataframe\">\n",
       "  <thead>\n",
       "    <tr style=\"text-align: right;\">\n",
       "      <th></th>\n",
       "      <th>Unnamed: 0</th>\n",
       "      <th>52</th>\n",
       "      <th>Unnamed: 1</th>\n",
       "    </tr>\n",
       "  </thead>\n",
       "  <tbody>\n",
       "    <tr>\n",
       "      <th>0</th>\n",
       "      <td>NaN</td>\n",
       "      <td>52</td>\n",
       "      <td>NaN</td>\n",
       "    </tr>\n",
       "    <tr>\n",
       "      <th>1</th>\n",
       "      <td>NaN</td>\n",
       "      <td>52</td>\n",
       "      <td>NaN</td>\n",
       "    </tr>\n",
       "    <tr>\n",
       "      <th>2</th>\n",
       "      <td>NaN</td>\n",
       "      <td>51,5</td>\n",
       "      <td>NaN</td>\n",
       "    </tr>\n",
       "    <tr>\n",
       "      <th>3</th>\n",
       "      <td>NaN</td>\n",
       "      <td>51</td>\n",
       "      <td>NaN</td>\n",
       "    </tr>\n",
       "    <tr>\n",
       "      <th>4</th>\n",
       "      <td>NaN</td>\n",
       "      <td>51</td>\n",
       "      <td>NaN</td>\n",
       "    </tr>\n",
       "    <tr>\n",
       "      <th>5</th>\n",
       "      <td>NaN</td>\n",
       "      <td>51</td>\n",
       "      <td>NaN</td>\n",
       "    </tr>\n",
       "    <tr>\n",
       "      <th>6</th>\n",
       "      <td>NaN</td>\n",
       "      <td>51</td>\n",
       "      <td>NaN</td>\n",
       "    </tr>\n",
       "    <tr>\n",
       "      <th>7</th>\n",
       "      <td>NaN</td>\n",
       "      <td>51</td>\n",
       "      <td>NaN</td>\n",
       "    </tr>\n",
       "    <tr>\n",
       "      <th>8</th>\n",
       "      <td>NaN</td>\n",
       "      <td>51</td>\n",
       "      <td>NaN</td>\n",
       "    </tr>\n",
       "    <tr>\n",
       "      <th>9</th>\n",
       "      <td>NaN</td>\n",
       "      <td>51</td>\n",
       "      <td>NaN</td>\n",
       "    </tr>\n",
       "    <tr>\n",
       "      <th>10</th>\n",
       "      <td>NaN</td>\n",
       "      <td>51</td>\n",
       "      <td>NaN</td>\n",
       "    </tr>\n",
       "    <tr>\n",
       "      <th>11</th>\n",
       "      <td>NaN</td>\n",
       "      <td>51</td>\n",
       "      <td>NaN</td>\n",
       "    </tr>\n",
       "    <tr>\n",
       "      <th>12</th>\n",
       "      <td>NaN</td>\n",
       "      <td>51</td>\n",
       "      <td>NaN</td>\n",
       "    </tr>\n",
       "    <tr>\n",
       "      <th>13</th>\n",
       "      <td>NaN</td>\n",
       "      <td>51</td>\n",
       "      <td>NaN</td>\n",
       "    </tr>\n",
       "    <tr>\n",
       "      <th>14</th>\n",
       "      <td>NaN</td>\n",
       "      <td>51</td>\n",
       "      <td>NaN</td>\n",
       "    </tr>\n",
       "    <tr>\n",
       "      <th>15</th>\n",
       "      <td>NaN</td>\n",
       "      <td>50,5</td>\n",
       "      <td>NaN</td>\n",
       "    </tr>\n",
       "    <tr>\n",
       "      <th>16</th>\n",
       "      <td>NaN</td>\n",
       "      <td>50</td>\n",
       "      <td>NaN</td>\n",
       "    </tr>\n",
       "    <tr>\n",
       "      <th>17</th>\n",
       "      <td>NaN</td>\n",
       "      <td>50</td>\n",
       "      <td>NaN</td>\n",
       "    </tr>\n",
       "    <tr>\n",
       "      <th>18</th>\n",
       "      <td>NaN</td>\n",
       "      <td>49,5</td>\n",
       "      <td>NaN</td>\n",
       "    </tr>\n",
       "    <tr>\n",
       "      <th>19</th>\n",
       "      <td>NaN</td>\n",
       "      <td>49</td>\n",
       "      <td>NaN</td>\n",
       "    </tr>\n",
       "  </tbody>\n",
       "</table>\n",
       "</div>"
      ],
      "text/plain": [
       "    Unnamed: 0    52  Unnamed: 1\n",
       "0          NaN    52         NaN\n",
       "1          NaN    52         NaN\n",
       "2          NaN  51,5         NaN\n",
       "3          NaN    51         NaN\n",
       "4          NaN    51         NaN\n",
       "5          NaN    51         NaN\n",
       "6          NaN    51         NaN\n",
       "7          NaN    51         NaN\n",
       "8          NaN    51         NaN\n",
       "9          NaN    51         NaN\n",
       "10         NaN    51         NaN\n",
       "11         NaN    51         NaN\n",
       "12         NaN    51         NaN\n",
       "13         NaN    51         NaN\n",
       "14         NaN    51         NaN\n",
       "15         NaN  50,5         NaN\n",
       "16         NaN    50         NaN\n",
       "17         NaN    50         NaN\n",
       "18         NaN  49,5         NaN\n",
       "19         NaN    49         NaN"
      ]
     },
     "execution_count": 70,
     "metadata": {},
     "output_type": "execute_result"
    }
   ],
   "source": [
    "df[3].head(20)"
   ]
  },
  {
   "cell_type": "code",
   "execution_count": 78,
   "metadata": {
    "scrolled": true
   },
   "outputs": [
    {
     "name": "stderr",
     "output_type": "stream",
     "text": [
      "Error from tabula-java:\n",
      "Exception in thread \"main\" java.lang.IndexOutOfBoundsException: Page number does not exist\r\n",
      "\tat technology.tabula.ObjectExtractor.extractPage(ObjectExtractor.java:19)\r\n",
      "\tat technology.tabula.PageIterator.next(PageIterator.java:29)\r\n",
      "\tat technology.tabula.CommandLineApp.extractFile(CommandLineApp.java:165)\r\n",
      "\tat technology.tabula.CommandLineApp.extractFileTables(CommandLineApp.java:128)\r\n",
      "\tat technology.tabula.CommandLineApp.extractTables(CommandLineApp.java:109)\r\n",
      "\tat technology.tabula.CommandLineApp.main(CommandLineApp.java:79)\r\n",
      "\n",
      "\n"
     ]
    },
    {
     "name": "stdout",
     "output_type": "stream",
     "text": [
      "Oops!  That was no valid number.  Try again...\n"
     ]
    }
   ],
   "source": [
    "while True:\n",
    "    try:\n",
    "        df = tabula.read_pdf(files_2016[0],multiple_tables=True,pages=21,silent=True)\n",
    "        break\n",
    "    except Exception:\n",
    "        print(\"Oops!  That was no valid number.  Try again...\")\n",
    "        break"
   ]
  }
 ],
 "metadata": {
  "kernelspec": {
   "display_name": "Python 3",
   "language": "python",
   "name": "python3"
  },
  "language_info": {
   "codemirror_mode": {
    "name": "ipython",
    "version": 3
   },
   "file_extension": ".py",
   "mimetype": "text/x-python",
   "name": "python",
   "nbconvert_exporter": "python",
   "pygments_lexer": "ipython3",
   "version": "3.7.3"
  }
 },
 "nbformat": 4,
 "nbformat_minor": 2
}
